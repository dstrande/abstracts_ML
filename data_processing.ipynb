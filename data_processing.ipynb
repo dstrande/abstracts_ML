{
 "cells": [
  {
   "cell_type": "code",
   "execution_count": 1,
   "metadata": {},
   "outputs": [],
   "source": [
    "import scipy as sp\n",
    "import numpy as np\n",
    "import pandas as pd\n",
    "import tensorflow as tf\n",
    "import h5py\n",
    "\n",
    "from sentence_transformers import SentenceTransformer"
   ]
  },
  {
   "cell_type": "code",
   "execution_count": 15,
   "metadata": {},
   "outputs": [
    {
     "name": "stdout",
     "output_type": "stream",
     "text": [
      "train.shape: (2211861, 1)\n",
      "test.shape: (29493, 1)\n"
     ]
    }
   ],
   "source": [
    "# Load data from the desired source. This example uses the 200k abstracts with the numbers unchanged.\n",
    "\n",
    "train = pd.read_csv('200k_abstracts/train.txt', dtype=str, delimiter='\\n', header=None, engine='python', comment='###')\n",
    "test = pd.read_csv('200k_abstracts/test.txt', dtype=str, delimiter='\\n', header=None, engine='python', comment='###')\n",
    "print(f\"train.shape: {train.shape}\")\n",
    "print(f\"test.shape: {test.shape}\")"
   ]
  },
  {
   "cell_type": "code",
   "execution_count": 16,
   "metadata": {},
   "outputs": [
    {
     "name": "stdout",
     "output_type": "stream",
     "text": [
      "            0                                                  1\n",
      "0  BACKGROUND  The emergence of HIV as a chronic condition me...\n",
      "1  BACKGROUND  This paper describes the design and evaluation...\n",
      "2     METHODS  This study is designed as a randomised control...\n",
      "3     METHODS  The intervention group will participate in the...\n",
      "4     METHODS  The program is based on self-efficacy theory a...\n",
      "            0                                                  1\n",
      "0  BACKGROUND  Many pathogenic processes and diseases are the...\n",
      "1  BACKGROUND  It was recently demonstrated that supraphysiol...\n",
      "2  BACKGROUND  In the present study , we examined the associa...\n",
      "3  BACKGROUND  In addition , we compared plasma levels of MAp...\n",
      "4     METHODS  A total of 192 MI patients and 140 control per...\n"
     ]
    }
   ],
   "source": [
    "# Split data at tab strings and drop any empty rows.\n",
    "\n",
    "train = train[0].str.split('\\t', expand=True)\n",
    "train = train.dropna()\n",
    "print(train.head())\n",
    "\n",
    "test = test[0].str.split('\\t', expand=True)\n",
    "test = test.dropna()\n",
    "print(test.head())"
   ]
  },
  {
   "cell_type": "code",
   "execution_count": 17,
   "metadata": {},
   "outputs": [],
   "source": [
    "# Load the desired model and set the max sequence length. This roughly corresponds to the max sentence length.\n",
    "\n",
    "model = SentenceTransformer('all-mpnet-base-v2', device='cuda')\n",
    "\n",
    "model.max_seq_length = 300"
   ]
  },
  {
   "cell_type": "code",
   "execution_count": 19,
   "metadata": {},
   "outputs": [
    {
     "name": "stdout",
     "output_type": "stream",
     "text": [
      "   0                                                  1\n",
      "0  0  Many pathogenic processes and diseases are the...\n",
      "1  0  It was recently demonstrated that supraphysiol...\n",
      "2  0  In the present study , we examined the associa...\n",
      "3  0  In addition , we compared plasma levels of MAp...\n",
      "4  2  A total of 192 MI patients and 140 control per...\n"
     ]
    }
   ],
   "source": [
    "# Map the labels to integers. \n",
    "\n",
    "train[0] = train[0].map({'BACKGROUND': 0, 'OBJECTIVE': 1, 'METHODS': 2, 'RESULTS': 3, 'CONCLUSIONS': 4})\n",
    "test[0] = test[0].map({'BACKGROUND': 0, 'OBJECTIVE': 1, 'METHODS': 2, 'RESULTS': 3, 'CONCLUSIONS': 4})\n",
    "print(test.head())"
   ]
  },
  {
   "cell_type": "code",
   "execution_count": 20,
   "metadata": {},
   "outputs": [],
   "source": [
    "# Split into X and y arrays.\n",
    "\n",
    "X_test = np.array(test[1])\n",
    "y_test = np.array(test[0])\n",
    "X_train = np.array(train[1])\n",
    "y_train = np.array(train[0])"
   ]
  },
  {
   "cell_type": "code",
   "execution_count": 21,
   "metadata": {},
   "outputs": [
    {
     "data": {
      "application/vnd.jupyter.widget-view+json": {
       "model_id": "17f704cf250146188f2930c7bc2ea6ee",
       "version_major": 2,
       "version_minor": 0
      },
      "text/plain": [
       "Batches:   0%|          | 0/922 [00:00<?, ?it/s]"
      ]
     },
     "metadata": {},
     "output_type": "display_data"
    },
    {
     "data": {
      "application/vnd.jupyter.widget-view+json": {
       "model_id": "7763b07358294947921ad72e5fff285e",
       "version_major": 2,
       "version_minor": 0
      },
      "text/plain": [
       "Batches:   0%|          | 0/69121 [00:00<?, ?it/s]"
      ]
     },
     "metadata": {},
     "output_type": "display_data"
    }
   ],
   "source": [
    "# Encode the sentences with sentence_transformers\n",
    "\n",
    "X_test = model.encode(X_test, device='cuda', show_progress_bar=True)\n",
    "X_train = model.encode(X_train, device='cuda', show_progress_bar=True)"
   ]
  },
  {
   "cell_type": "code",
   "execution_count": 24,
   "metadata": {},
   "outputs": [],
   "source": [
    "# Save processed data into hdf5 files.\n",
    "\n",
    "with h5py.File('sept1/200k.hdf5', 'w') as f:\n",
    "    f.create_dataset('X_train', data=X_train)\n",
    "    f.create_dataset('X_test', data=X_test)\n",
    "    f.create_dataset('y_train', data=y_train)\n",
    "    f.create_dataset('y_test', data=y_test)"
   ]
  },
  {
   "cell_type": "code",
   "execution_count": 26,
   "metadata": {},
   "outputs": [
    {
     "name": "stdout",
     "output_type": "stream",
     "text": [
      "(2211861, 768) (2211861,)\n"
     ]
    }
   ],
   "source": [
    "# Load data from hdf5 files if desired.\n",
    "\n",
    "with h5py.File('sept1/200k.hdf5', 'r') as f:\n",
    "    X_train = np.array(f.get('X_train'))\n",
    "    X_test = np.array(f.get('X_test'))\n",
    "    y_train = np.array(f.get('y_train'))\n",
    "    y_test = np.array(f.get('y_test'))\n",
    "\n",
    "print(X_train.shape, y_train.shape)"
   ]
  }
 ],
 "metadata": {
  "kernelspec": {
   "display_name": "Python 3.8.13 ('learning')",
   "language": "python",
   "name": "python3"
  },
  "language_info": {
   "codemirror_mode": {
    "name": "ipython",
    "version": 3
   },
   "file_extension": ".py",
   "mimetype": "text/x-python",
   "name": "python",
   "nbconvert_exporter": "python",
   "pygments_lexer": "ipython3",
   "version": "3.8.13"
  },
  "orig_nbformat": 4,
  "vscode": {
   "interpreter": {
    "hash": "b8c5c776a87ddeec2a814dcbbb331948fe957c84741b9930c2b03899e860c5c5"
   }
  }
 },
 "nbformat": 4,
 "nbformat_minor": 2
}
